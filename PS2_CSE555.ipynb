{
 "cells": [
  {
   "cell_type": "code",
   "execution_count": 0,
   "metadata": {
    "colab": {},
    "colab_type": "code",
    "id": "g2kGTYQoGPDm"
   },
   "outputs": [],
   "source": [
    "import gzip\n",
    "import cv2\n",
    "import numpy as np\n",
    "import time\n",
    "from sklearn import svm, metrics\n",
    "from sklearn.model_selection import GridSearchCV\n",
    "from sklearn.metrics import classification_report"
   ]
  },
  {
   "cell_type": "code",
   "execution_count": 0,
   "metadata": {
    "colab": {},
    "colab_type": "code",
    "id": "5f6J9mXOGUr0"
   },
   "outputs": [],
   "source": [
    "now= time.time()\n",
    "image_size = 28\n",
    "num_images = 20000\n",
    "print(\"----------Reading training Data----------\")\n",
    "file1 = gzip.open('train-images-idx3-ubyte.gz','r')\n",
    "buffer1 = file1.read(image_size * image_size * num_images)\n",
    "data = np.frombuffer(buffer1, dtype=np.uint8).astype(np.float32)\n",
    "train_data = data.reshape(num_images, 784)\n",
    "\n",
    "print(\"----------Reading training Labels----------\")\n",
    "file2 = gzip.open('train-labels-idx1-ubyte.gz','r')\n",
    "buffer2 = file2.read(1 * 20000)\n",
    "train_label = np.frombuffer(buffer2, dtype=np.uint8).astype(np.int64)\n",
    "\n",
    "num_images = 2000\n",
    "print(\"----------Reading testing Data----------\")\n",
    "file3 = gzip.open('t10k-images-idx3-ubyte.gz','r')\n",
    "buffer3 = file3.read(image_size * image_size * num_images)\n",
    "test_data = np.frombuffer(buffer3, dtype=np.uint8).astype(np.float32)\n",
    "test_data = test_data.reshape(num_images, 784)\n",
    "\n",
    "print(\"----------Reading testing Labels----------\")\n",
    "file4 = gzip.open('t10k-labels-idx1-ubyte.gz','r')\n",
    "buffer4 = file4.read(1 * 2000)\n",
    "test_label = np.frombuffer(buffer4, dtype=np.uint8).astype(np.int64)"
   ]
  },
  {
   "cell_type": "code",
   "execution_count": 4,
   "metadata": {
    "colab": {
     "base_uri": "https://localhost:8080/",
     "height": 590
    },
    "colab_type": "code",
    "id": "yeMpijyaFbMs",
    "outputId": "380760c3-1122-43e0-b5d5-12780068842a"
   },
   "outputs": [
    {
     "name": "stdout",
     "output_type": "stream",
     "text": [
      "Optimal parameters: {'C': 0.1, 'kernel': 'linear'}\n",
      "              precision    recall  f1-score   support\n",
      "\n",
      "           0       0.92      0.96      0.94       175\n",
      "           1       0.96      0.99      0.97       234\n",
      "           2       0.89      0.90      0.90       219\n",
      "           3       0.81      0.89      0.85       207\n",
      "           4       0.91      0.94      0.93       217\n",
      "           5       0.84      0.83      0.84       179\n",
      "           6       0.94      0.92      0.93       178\n",
      "           7       0.91      0.87      0.89       205\n",
      "           8       0.91      0.76      0.83       192\n",
      "           9       0.86      0.85      0.85       194\n",
      "\n",
      "    accuracy                           0.89      2000\n",
      "   macro avg       0.89      0.89      0.89      2000\n",
      "weighted avg       0.89      0.89      0.89      2000\n",
      "\n",
      "<bound method BaseSearchCV.score of GridSearchCV(cv=2, error_score=nan,\n",
      "             estimator=SVC(C=1.0, break_ties=False, cache_size=200,\n",
      "                           class_weight=None, coef0=0.0,\n",
      "                           decision_function_shape='ovr', degree=3, gamma=0.05,\n",
      "                           kernel='rbf', max_iter=-1, probability=False,\n",
      "                           random_state=None, shrinking=True, tol=0.001,\n",
      "                           verbose=False),\n",
      "             iid='deprecated', n_jobs=None,\n",
      "             param_grid=[{'C': [0.1, 1], 'gamma': [0.001, 0.1, 1],\n",
      "                          'kernel': ['rbf']},\n",
      "                         {'C': [0.1, 1], 'kernel': ['linear']}],\n",
      "             pre_dispatch='2*n_jobs', refit=True, return_train_score=False,\n",
      "             scoring=None, verbose=0)>\n"
     ]
    }
   ],
   "source": [
    "#Creating a list of parameters we want to tune with GridSearch\n",
    "tune_parameters = [{'kernel': ['rbf'], 'gamma': [0.001, 0.1,1],\n",
    "                     'C': [0.1, 1]},\n",
    "                    {'kernel': ['linear'], 'C': [0.1, 1]}]\n",
    "margin = svm.SVC(gamma= 0.05)\n",
    "#Using Gridsearch to find optimal hyperparameters\n",
    "grid = GridSearchCV(margin, tune_parameters, cv=2)\n",
    "grid.fit(train_data,train_label)\n",
    "print(\"Optimal parameters: \" + str(grid.best_params_))\n",
    "prediction = grid.predict(test_data)\n",
    "print(classification_report(test_label, prediction))\n",
    "print(grid.score)"
   ]
  },
  {
   "cell_type": "markdown",
   "metadata": {
    "colab_type": "text",
    "id": "h3YtxDVeICCC"
   },
   "source": [
    "### **The Accuracy is 89%**"
   ]
  },
  {
   "cell_type": "code",
   "execution_count": 6,
   "metadata": {
    "colab": {
     "base_uri": "https://localhost:8080/",
     "height": 35
    },
    "colab_type": "code",
    "id": "f7h5ihNXrLoq",
    "outputId": "9e33aa16-c6d2-46fb-802a-3e78336ccdad"
   },
   "outputs": [
    {
     "name": "stdout",
     "output_type": "stream",
     "text": [
      "Time taken: 5227.536602973938 minutes\n"
     ]
    }
   ],
   "source": [
    "print(\"Time taken: \"+str(time.time() - now)+\" minutes\")"
   ]
  }
 ],
 "metadata": {
  "colab": {
   "name": "PR2_Aniruddha_Karlekar_50314912.ipynb",
   "provenance": []
  },
  "kernelspec": {
   "display_name": "Python 3",
   "language": "python",
   "name": "python3"
  },
  "language_info": {
   "codemirror_mode": {
    "name": "ipython",
    "version": 3
   },
   "file_extension": ".py",
   "mimetype": "text/x-python",
   "name": "python",
   "nbconvert_exporter": "python",
   "pygments_lexer": "ipython3",
   "version": "3.6.5"
  }
 },
 "nbformat": 4,
 "nbformat_minor": 1
}
