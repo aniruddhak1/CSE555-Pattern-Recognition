{
  "nbformat": 4,
  "nbformat_minor": 0,
  "metadata": {
    "colab": {
      "name": "CSE555_ProblemSet4_50314912_akarleka.ipynb",
      "provenance": []
    },
    "kernelspec": {
      "display_name": "Python 3",
      "language": "python",
      "name": "python3"
    },
    "language_info": {
      "codemirror_mode": {
        "name": "ipython",
        "version": 3
      },
      "file_extension": ".py",
      "mimetype": "text/x-python",
      "name": "python",
      "nbconvert_exporter": "python",
      "pygments_lexer": "ipython3",
      "version": "3.7.6"
    }
  },
  "cells": [
    {
      "cell_type": "markdown",
      "metadata": {
        "colab_type": "text",
        "id": "XQ75jUx3OHh0"
      },
      "source": [
        "# CSE 555: Problem Set 4: Neural Networks"
      ]
    },
    {
      "cell_type": "markdown",
      "metadata": {
        "colab_type": "text",
        "id": "S_XFoxLXF0i7"
      },
      "source": [
        "Answer 1:\n",
        "\n",
        "We have to show that a neural network to maximize the log likelihood of label is one that has softmax output nodes and minimizes the criterion function of the negative log probability of training data set.\n",
        "\n",
        "Definitions:\n",
        "\n",
        "Negative Log-Likelihood function-\n",
        "\n",
        "When training a model, we optimize the loss function. The Negative liklihood function operates on a given variable to return an output - \n",
        "\n",
        "$$ L(y) = - log(y) $$\n",
        "\n",
        "We then perform the summation of all the correct classes.\n",
        "In a Neural Network , the minima of the loss function is found by assigning the weights using a back-propagation algorithim such that, it is the locus of the points with minimum losses. Negative log liklihood becomes large at small values and vice versa. Like in negetive log liklihood, we do the summation of the loss function on all the correct classes, for every correct prediction, the loss is close to 0 and on every incorrect prediction, the loss grows larger with the degree of incorrectness.\n",
        "\n",
        "Softmax function:\n",
        "\n",
        "We use a softmax function when we need to classify multiple classes. It is generally used with negative log-likelihood for multi-class classifications. \n",
        "In the MNIST dataset, since we have 10 classes, the softmax function is used in the last layer. \n",
        "The equation for the softmax function is given by: \n",
        "\n",
        "$$ S(f_{y_{i}}) = \\frac{e^{f_{y_{i}}}}{\\sum_{j}e^{f_{N}}} $$\n",
        "\n",
        "$$ where, y_{i} = targets$$<br>\n",
        "$$ N = classes$$\n",
        "Thus, the  softmax function normalizes  a vector of size $k$ to a range between 0 and 1. The sum of the whole vector becomes equal to 1, since it is a normalization of the exponential. The softmax function basically returns probabilities of a certain set of features that belong to a certain class. \n",
        "\n",
        "#### Derivation: \n",
        "\n",
        "Assume $f$ to be a vector containing the class scores for a single example, i.e., the output of the network. Thus $f_{k}$ is an element for a certain class $k$ in all $N$ classes. \n",
        "Now we can rewrite softmax function as follows - \n",
        "\n",
        "$$p_{k} = \\frac{e^{f_{k}}}{\\sum_{y}e^{f_{N}}} $$  The negetive logliklihood could be written as:\n",
        "\n",
        "$$L_{i} = -log(p_{y_{i}})$$\n",
        "\n",
        "During  backpropagation, we compute how the loss changes relative to the output of the network as:\n",
        "$\\frac{\\partial L_{i}}{\\partial f_{k}}$. \n",
        "\n",
        "Because $L$ is dependent on $p_{k}$, and $p$ is dependent on $f_{k}$, using the chain rule, we get:\n",
        "\n",
        "$$\\frac{\\partial L_{i}}{\\partial f_{k}} = \\frac{\\partial L_{i}}{\\partial p_{k}} \\frac{\\partial p_{k}}{\\partial f_{k}}$$\n",
        "\n",
        " $$\\frac{\\partial L_{i}}{\\partial p_{k}} = - \\frac{1}{p_{k}} $$  \n",
        "\n",
        " $$\\frac{\\partial p_{k}}{\\partial f_{k}},$$ \n",
        "\n",
        "By quotient rule,$$\\frac{f(x)}{g(x)} = \\frac{g(x)Df(x) - f(x)Dg(x)}{g(x)^{2}}$$ and $D$ denotes the derivative. \n",
        "\n",
        "Assuming $$\\sum_{N} e^{f_{N}} = \\phi ,$$ and substituting,\n",
        "\n",
        "$$ \\frac{\\partial p_{k}}{\\partial f_{k}} = \\frac{\\partial }{\\partial f_{k}} \\left ( \\frac{e^{f_{k}}}{\\sum _{N}e^{f_{N}}} \\right ) $$\n",
        "\n",
        "$$ = \\frac{\\phi De^{f_{k}} - e^{f_{k}}D\\phi }{\\phi ^{2}}$$\n",
        "\n",
        "$$ = \\frac{e^{f_{k}} \\left ( \\phi  - e^{f_{k}}  \\right )}{\\phi ^{2}}$$\n",
        "\n",
        "We have $D\\phi = e^{f_{k}}$ because if we take the vector $f$ in the softmax function, we are always taking the derivative of the k-th element. So in this case, the derivate w.r.t the k-th element of all non-$k$ elements will always be equal to 0, but $e^{f_{k}}$ at $k$.\n",
        "\n",
        "Thus, $$\\frac{\\partial L_{i}}{\\partial f_{k}} = \\frac{e^{f_{k}}\\left ( \\phi - e^{f_{k}} \\right )}{\\phi ^{2}}$$\n",
        "$$ = \\frac{e^{f_{k}}}{\\phi }\\frac{\\phi - e^{f_{k}}}{\\phi }$$\n",
        "$$ = p_{k} * (1 - p_{k})$$\n",
        "\n",
        "Summing the above results, we have: \n",
        "$$\\frac{\\partial L_{i}}{\\partial f_{k}} = \\frac{\\partial L_{i}}{\\partial p_{k}} \\frac{\\partial p_{k}}{\\partial f_{k}}$$\n",
        "\n",
        "$$ = - \\frac{1}{p_{k}} \\left ( p_{k} * \\left ( 1 - p_{k} \\right )\\right )$$\n",
        "$$ = \\left ( p_{k}-1 \\right )$$\n",
        " \n",
        "Gaussian prior and L2 regularization:\n",
        "\n",
        "For inference of a parameter  $\\alpha$ from some observed input-output pairs $\\left(x_{1}, y_{1} \\right)..., \\left(x_{N}, y_{N}\\right)$ We assume that the outputs are linearly related to the inputs via $\\alpha$ and the data with some noise $\\epsilon$:\n",
        "$$y_{n} = \\alpha x_{n} + \\epsilon$$<br>\n",
        "where $\\epsilon$ is Gaussian noise with mean 0 and variance $\\sigma^{2}$. Thus we get a Gaussian likelihood as - \n",
        "\n",
        "$$\\prod _{n=1}^{N}\\mathbb{N}\\left ( y_{n}|\\alpha x_{n}, \\sigma^{2} \\right )$$\n",
        "\n",
        "We regularize $\\alpha$ using the Gaussian prior $\\mathbb{N}\\left ( \\alpha|0, \\lambda^{-1}  \\right )$, where $\\lambda$ is a strictly positive scalar. Hence, putting together the likelihood and the prior we get:\n",
        "\n",
        "$$\\prod _{n=1}^{N}\\mathbb{N}\\left ( y_{n}|\\alpha x_{n}, \\sigma^{2} \\right ) \\mathbb{N}\\left ( \\alpha|0, \\lambda^{-1} \\right )$$\n",
        "Taking the logarithm of the above expression and neglecting  constants, we get: \n",
        "\n",
        "$$\\sum _{n=1}^{N} - \\frac{1}{\\sigma^{2}}\\left ( y_{n} - \\alpha x_{n} \\right )^{2} - \\lambda \\alpha^{2} + C,$$ where $C$ is a constant term. \n",
        "\n",
        "Hence,minimizing  the above expression relative to  $\\alpha$, we get the maximum a-posteriori estimate for $\\alpha$. From this it is clear that the Gaussian prior can be interpreted as a L2 regularization term. \n"
      ]
    },
    {
      "cell_type": "markdown",
      "metadata": {
        "colab_type": "text",
        "id": "zG6aOJjbORFR"
      },
      "source": [
        "## Importing packages"
      ]
    },
    {
      "cell_type": "code",
      "metadata": {
        "colab_type": "code",
        "id": "b2d9N-GIOVXR",
        "colab": {},
        "outputId": "93e50e06-33bc-4e78-a761-bb1370a94393"
      },
      "source": [
        "import tensorflow as tf\n",
        "import numpy as np\n",
        "import pandas as pd\n",
        "import keras\n",
        "from keras.utils import np_utils\n",
        "from keras.preprocessing.image import ImageDataGenerator\n",
        "from sklearn import metrics\n",
        "import matplotlib.pyplot as plt\n",
        "%matplotlib inline"
      ],
      "execution_count": 0,
      "outputs": [
        {
          "output_type": "stream",
          "text": [
            "Using TensorFlow backend.\n"
          ],
          "name": "stderr"
        }
      ]
    },
    {
      "cell_type": "markdown",
      "metadata": {
        "colab_type": "text",
        "id": "zatKKdr1OZBa"
      },
      "source": [
        "## Importing the MNIST Dataset"
      ]
    },
    {
      "cell_type": "code",
      "metadata": {
        "colab_type": "code",
        "id": "IiUYMfpJOeOh",
        "colab": {}
      },
      "source": [
        "mnist = tf.keras.datasets.mnist\n",
        "(x_train, y_train), (x_test, y_test) = mnist.load_data()\n",
        "x_train = x_train / 255.0\n",
        "x_test = x_test / 255.0\n",
        "x_validate = x_train[-10000:] #Using last 10000 for validation\n",
        "y_validate = y_train[-10000:]\n",
        "x_train = x_train[:x_train.shape[0]-10000] #Deleting last 10000 from training set because we're using those for validation\n",
        "y_train = y_train[:y_train.shape[0]-10000]\n",
        "digits = {} #Dictionary to store data for digits separately\n",
        "for i in range(10):\n",
        "    digits[i] = list()\n",
        "for i in range(len(x_train)):\n",
        "    digits[y_train[i]].append(x_train[i])\n",
        "new_x_train = list()\n",
        "new_y_train = list()\n",
        "for i in range(len(digits)):\n",
        "    for j in range(100): #taking only 100 values per digit\n",
        "        new_x_train.append(digits[i][j])\n",
        "        new_y_train.append(i)\n",
        "new_x_train = np.asarray(new_x_train)\n",
        "new_y_train = np.asarray(new_y_train)"
      ],
      "execution_count": 0,
      "outputs": []
    },
    {
      "cell_type": "code",
      "metadata": {
        "colab_type": "code",
        "id": "zbsSBRy2pSFU",
        "colab": {}
      },
      "source": [
        "def drawplot():\n",
        "  df = pd.DataFrame()\n",
        "  df['training_loss'] = train.history['loss']\n",
        "  df['validation_loss'] = train.history['val_loss']\n",
        "  df.plot(grid=True)"
      ],
      "execution_count": 0,
      "outputs": []
    },
    {
      "cell_type": "markdown",
      "metadata": {
        "colab_type": "text",
        "id": "lQOFRTdBOp2a"
      },
      "source": [
        "## Neural Network Model"
      ]
    },
    {
      "cell_type": "code",
      "metadata": {
        "colab_type": "code",
        "id": "_hmWnsEwOzvB",
        "colab": {}
      },
      "source": [
        "class NeuralNetworkModel:\n",
        "\n",
        "    def __init__(self, nlayers=1, l2=False):\n",
        "\n",
        "        self.model = tf.keras.models.Sequential()\n",
        "        self.model.add(tf.keras.layers.Flatten())\n",
        "\n",
        "        if l2:\n",
        "            for _ in range(nlayers):\n",
        "                self.model.add(tf.keras.layers.Dense(30, activation=tf.sigmoid,kernel_regularizer=tf.keras.regularizers.l2(5)))\n",
        "        else:\n",
        "            for _ in range(nlayers):\n",
        "                self.model.add(tf.keras.layers.Dense(30, activation=tf.sigmoid))\n",
        "        self.model.add(tf.keras.layers.Dense(10, activation=tf.nn.softmax))\n",
        "        self.yhat = []\n",
        "        self.model.compile(optimizer='adam', loss='sparse_categorical_crossentropy', metrics=['accuracy'])\n",
        "\n",
        "    def predict(self, x, y):\n",
        "        self.yhat = np.argmax(self.model.predict(x), axis=1)\n",
        "        accuracy = metrics.accuracy_score(y, self.yhat)\n",
        "        return accuracy\n",
        "\n",
        "    def fit(self, x, y, validation_data, epochs):\n",
        "        return self.model.fit(x, y, validation_data=validation_data, epochs=epochs, batch_size=10, verbose=0)"
      ],
      "execution_count": 0,
      "outputs": []
    },
    {
      "cell_type": "markdown",
      "metadata": {
        "colab_type": "text",
        "id": "iQwM4JUJPaqC"
      },
      "source": [
        "# Neural Network with:"
      ]
    },
    {
      "cell_type": "markdown",
      "metadata": {
        "colab_type": "text",
        "id": "rjaoVeBIPb4Z"
      },
      "source": [
        "## 1 Hidden Layer"
      ]
    },
    {
      "cell_type": "code",
      "metadata": {
        "colab_type": "code",
        "id": "AHx2xWH3Pl4a",
        "outputId": "d2a2d1ca-5a9b-4ef1-dd5d-d268a7d8f415",
        "colab": {
          "base_uri": "https://localhost:8080/",
          "height": 609
        }
      },
      "source": [
        "Neural = NeuralNetworkModel()\n",
        "train = Neural.fit(new_x_train, new_y_train, (x_validate, y_validate), epochs=30)\n",
        "accuracy = Neural.predict(x_test, y_test)\n",
        "print(\"Accuracy: \" + str(round(accuracy*100, 2)) + \"%\")\n",
        "drawplot()"
      ],
      "execution_count": 0,
      "outputs": [
        {
          "output_type": "stream",
          "text": [
            "Accuracy: 88.03%\n"
          ],
          "name": "stdout"
        },
        {
          "output_type": "display_data",
          "data": {
            "image/png": "[encoded data removed]",
            "text/plain": [
              "<Figure size 432x288 with 1 Axes>"
            ]
          },
          "metadata": {
            "tags": [],
            "needs_background": "light"
          }
        }
      ]
    },
    {
      "cell_type": "markdown",
      "metadata": {
        "colab_type": "text",
        "id": "iOR9T8i-PyJK"
      },
      "source": [
        "## 2 Hidden Layers"
      ]
    },
    {
      "cell_type": "code",
      "metadata": {
        "colab_type": "code",
        "id": "zLgnpnyoP01a",
        "outputId": "a3d19b4f-b334-4e73-dd56-b2794959a494",
        "colab": {
          "base_uri": "https://localhost:8080/",
          "height": 284
        }
      },
      "source": [
        "Neural = NeuralNetworkModel(nlayers=2)\n",
        "train = Neural.fit(new_x_train, new_y_train, (x_validate, y_validate), epochs=30)\n",
        "accuracy = Neural.predict(x_test, y_test)\n",
        "print(\"Accuracy: \" + str(round(accuracy*100, 2)) + \"%\")\n",
        "drawplot()"
      ],
      "execution_count": 0,
      "outputs": [
        {
          "output_type": "stream",
          "text": [
            "Accuracy: 85.66%\n"
          ],
          "name": "stdout"
        },
        {
          "output_type": "display_data",
          "data": {
            "image/png": "[encoded data removed]",
            "text/plain": [
              "<Figure size 432x288 with 1 Axes>"
            ]
          },
          "metadata": {
            "tags": [],
            "needs_background": "light"
          }
        }
      ]
    },
    {
      "cell_type": "markdown",
      "metadata": {
        "colab_type": "text",
        "id": "sABSmen6P5ch"
      },
      "source": [
        "## 3 Hidden Layers"
      ]
    },
    {
      "cell_type": "code",
      "metadata": {
        "colab_type": "code",
        "id": "w5cAoj6ZP785",
        "outputId": "7fa8641f-3805-4cd1-e16f-eaae8056bad0",
        "colab": {
          "base_uri": "https://localhost:8080/",
          "height": 284
        }
      },
      "source": [
        "Neural = NeuralNetworkModel(nlayers=3)\n",
        "train = Neural.fit(new_x_train, new_y_train, (x_validate, y_validate), epochs=30)\n",
        "accuracy = Neural.predict(x_test, y_test)\n",
        "print(\"Accuracy: \" + str(round(accuracy*100, 2)) + \"%\")\n",
        "drawplot()"
      ],
      "execution_count": 0,
      "outputs": [
        {
          "output_type": "stream",
          "text": [
            "Accuracy: 83.37%\n"
          ],
          "name": "stdout"
        },
        {
          "output_type": "display_data",
          "data": {
            "image/png": "[encoded data removed]",
            "text/plain": [
              "<Figure size 432x288 with 1 Axes>"
            ]
          },
          "metadata": {
            "tags": [],
            "needs_background": "light"
          }
        }
      ]
    },
    {
      "cell_type": "markdown",
      "metadata": {
        "colab_type": "text",
        "id": "hCwjWUEOQESM"
      },
      "source": [
        "## 1 Hidden Layer with L2 Regularization"
      ]
    },
    {
      "cell_type": "code",
      "metadata": {
        "colab_type": "code",
        "id": "tCiq7iDqQH1K",
        "outputId": "23f94265-5102-4c0c-dc1b-3a84c310932c",
        "colab": {
          "base_uri": "https://localhost:8080/",
          "height": 284
        }
      },
      "source": [
        "Neural = NeuralNetworkModel(l2=True)\n",
        "train = Neural.fit(new_x_train, new_y_train, (x_validate, y_validate), epochs=30)\n",
        "accuracy = Neural.predict(x_test, y_test)\n",
        "print(\"Accuracy: \" + str(round(accuracy*100, 2)) + \"%\")\n",
        "drawplot()"
      ],
      "execution_count": 0,
      "outputs": [
        {
          "output_type": "stream",
          "text": [
            "Accuracy: 17.7%\n"
          ],
          "name": "stdout"
        },
        {
          "output_type": "display_data",
          "data": {
            "image/png": "[encoded data removed]",
            "text/plain": [
              "<Figure size 432x288 with 1 Axes>"
            ]
          },
          "metadata": {
            "tags": [],
            "needs_background": "light"
          }
        }
      ]
    },
    {
      "cell_type": "markdown",
      "metadata": {
        "colab_type": "text",
        "id": "T27IHP_bQip9"
      },
      "source": [
        "## 2 Hidden Layers with L2 Regularization"
      ]
    },
    {
      "cell_type": "code",
      "metadata": {
        "colab_type": "code",
        "id": "0vS6VFuDQlTR",
        "outputId": "85eb7fee-e31b-447c-a663-29735033cf18",
        "colab": {
          "base_uri": "https://localhost:8080/",
          "height": 284
        }
      },
      "source": [
        "Neural = NeuralNetworkModel(nlayers=2, l2=True)\n",
        "train = Neural.fit(new_x_train, new_y_train, (x_validate, y_validate), epochs=30)\n",
        "accuracy = Neural.predict(x_test, y_test)\n",
        "print(\"Accuracy: \" + str(round(accuracy*100, 2)) + \"%\")\n",
        "drawplot()"
      ],
      "execution_count": 0,
      "outputs": [
        {
          "output_type": "stream",
          "text": [
            "Accuracy: 10.1%\n"
          ],
          "name": "stdout"
        },
        {
          "output_type": "display_data",
          "data": {
            "image/png": "[encoded data removed]",
            "text/plain": [
              "<Figure size 432x288 with 1 Axes>"
            ]
          },
          "metadata": {
            "tags": [],
            "needs_background": "light"
          }
        }
      ]
    },
    {
      "cell_type": "markdown",
      "metadata": {
        "colab_type": "text",
        "id": "vvlfyF6LQp9j"
      },
      "source": [
        "## 3 Hidden Layers with L2 Regularization"
      ]
    },
    {
      "cell_type": "code",
      "metadata": {
        "colab_type": "code",
        "id": "cTUY2WhWQwoL",
        "outputId": "76791fb2-665f-4f6f-ed2e-86fa652b9582",
        "colab": {
          "base_uri": "https://localhost:8080/",
          "height": 284
        }
      },
      "source": [
        "Neural = NeuralNetworkModel(nlayers=3, l2=True)\n",
        "train = Neural.fit(new_x_train, new_y_train, (x_validate, y_validate), epochs=30)\n",
        "accuracy = Neural.predict(x_test, y_test)\n",
        "print(\"Accuracy: \" + str(round(accuracy*100, 2)) + \"%\")\n",
        "drawplot()"
      ],
      "execution_count": 0,
      "outputs": [
        {
          "output_type": "stream",
          "text": [
            "Accuracy: 10.32%\n"
          ],
          "name": "stdout"
        },
        {
          "output_type": "display_data",
          "data": {
            "image/png": "[encoded data removed]",
            "text/plain": [
              "<Figure size 432x288 with 1 Axes>"
            ]
          },
          "metadata": {
            "tags": [],
            "needs_background": "light"
          }
        }
      ]
    },
    {
      "cell_type": "markdown",
      "metadata": {
        "colab_type": "text",
        "id": "hujL-LVRO6Bj"
      },
      "source": [
        "## Convolutional Neural Network Model"
      ]
    },
    {
      "cell_type": "code",
      "metadata": {
        "colab_type": "code",
        "id": "GHRuuLXBPAoa",
        "colab": {}
      },
      "source": [
        "class ConvolutionalNeuralNet:\n",
        "    \n",
        "    def __init__(self):\n",
        "        self.model = tf.keras.models.Sequential([\n",
        "            tf.keras.layers.Conv2D(32, kernel_size=(5,5), strides=(1,1), activation='relu', input_shape=(28,28,1)),\n",
        "            tf.keras.layers.MaxPooling2D(pool_size=(2,2), strides=(2,2)),\n",
        "            tf.keras.layers.Conv2D(64, kernel_size=(5,5), activation='relu'),\n",
        "            tf.keras.layers.MaxPooling2D(pool_size=(2,2)),\n",
        "            tf.keras.layers.Flatten(),\n",
        "            tf.keras.layers.Dense(1000, activation='relu'),\n",
        "            tf.keras.layers.Dense(10, activation='softmax')])\n",
        "        \n",
        "        self.model.compile(loss=keras.losses.categorical_crossentropy, optimizer=tf.keras.optimizers.SGD(lr=0.1), metrics=['accuracy'])\n",
        "    \n",
        "    def shift_rotate(self, rotate, shift):\n",
        "        self.datagen = ImageDataGenerator(featurewise_center=True, featurewise_std_normalization=True, rotation_range=rotate, width_shift_range=shift, height_shift_range=shift, horizontal_flip=True)\n",
        "        \n",
        "    def predict(self, x_test, y_test):\n",
        "        return self.model.evaluate(x_test, y_test, verbose=0)\n",
        "      \n",
        "    def fit(self, x, y, validation_data, batch_size, epochs):\n",
        "        self.model.fit_generator(self.datagen.flow(new_x_train, new_y_train, batch_size=batch_size), steps_per_epoch=len(new_x_train)/batch_size, epochs=epochs, verbose=0)"
      ],
      "execution_count": 0,
      "outputs": []
    },
    {
      "cell_type": "markdown",
      "metadata": {
        "colab_type": "text",
        "id": "pFh1ZhEmQ3l6"
      },
      "source": [
        "## Convolutional Neural Network"
      ]
    },
    {
      "cell_type": "code",
      "metadata": {
        "colab_type": "code",
        "id": "d9Doesd0Q7v8",
        "outputId": "44d689c0-17f1-48d3-af66-4820bed53262",
        "colab": {
          "base_uri": "https://localhost:8080/",
          "height": 984
        }
      },
      "source": [
        "cnn = ConvolutionalNeuralNet()\n",
        "cnn.shift_rotate(rotate=3, shift=3)\n",
        "new_x_train = new_x_train.reshape(new_x_train.shape[0], 28, 28, 1)\n",
        "x_validate = x_validate.reshape(x_validate.shape[0], 28, 28, 1)\n",
        "x_test = x_test.reshape(x_test.shape[0], 28, 28, 1)\n",
        "cnn.fit(new_x_train, new_y_train, (x_validate, y_validate), batch_size=128, epochs=10)\n",
        "accuracy = cnn.predict(x_test, y_test)"
      ],
      "execution_count": 0,
      "outputs": [
        {
          "output_type": "stream",
          "text": [
            "WARNING:tensorflow:From <ipython-input-11-36a16fa51029>:22: Model.fit_generator (from tensorflow.python.keras.engine.training) is deprecated and will be removed in a future version.\n",
            "Instructions for updating:\n",
            "Please use Model.fit, which supports generators.\n",
            "WARNING:tensorflow:sample_weight modes were coerced from\n",
            "  ...\n",
            "    to  \n",
            "  ['...']\n"
          ],
          "name": "stdout"
        },
        {
          "output_type": "stream",
          "text": [
            "C:\\Users\\aniru\\anaconda3\\lib\\site-packages\\keras_preprocessing\\image\\image_data_generator.py:716: UserWarning: This ImageDataGenerator specifies `featurewise_center`, but it hasn't been fit on any training data. Fit it first by calling `.fit(numpy_data)`.\n",
            "  warnings.warn('This ImageDataGenerator specifies '\n",
            "C:\\Users\\aniru\\anaconda3\\lib\\site-packages\\keras_preprocessing\\image\\image_data_generator.py:724: UserWarning: This ImageDataGenerator specifies `featurewise_std_normalization`, but it hasn't been fit on any training data. Fit it first by calling `.fit(numpy_data)`.\n",
            "  warnings.warn('This ImageDataGenerator specifies '\n",
            "C:\\Users\\aniru\\anaconda3\\lib\\site-packages\\keras_preprocessing\\image\\image_data_generator.py:716: UserWarning: This ImageDataGenerator specifies `featurewise_center`, but it hasn't been fit on any training data. Fit it first by calling `.fit(numpy_data)`.\n",
            "  warnings.warn('This ImageDataGenerator specifies '\n",
            "C:\\Users\\aniru\\anaconda3\\lib\\site-packages\\keras_preprocessing\\image\\image_data_generator.py:724: UserWarning: This ImageDataGenerator specifies `featurewise_std_normalization`, but it hasn't been fit on any training data. Fit it first by calling `.fit(numpy_data)`.\n",
            "  warnings.warn('This ImageDataGenerator specifies '\n"
          ],
          "name": "stderr"
        }
      ]
    },
    {
      "cell_type": "code",
      "metadata": {
        "colab_type": "code",
        "id": "xQ_biG6o9G0E",
        "outputId": "44b6081f-0824-4675-97eb-2db61eca3eac",
        "colab": {
          "base_uri": "https://localhost:8080/",
          "height": 174
        }
      },
      "source": [
        "print(\"Accuracy: \" + str(round(accuracy[1]*100, 2)) + \"%\")"
      ],
      "execution_count": 0,
      "outputs": [
        {
          "output_type": "stream",
          "text": [
            "Accuracy: 14.23%\n"
          ],
          "name": "stdout"
        }
      ]
    },
    {
      "cell_type": "markdown",
      "metadata": {
        "colab_type": "text",
        "id": "giEyfovAFMJ1"
      },
      "source": [
        "References:\n",
        "\n",
        "https://eli.thegreenplace.net/2016/the-softmax-function-and-its-derivative/\n",
        "\n",
        "https://ljvmiranda921.github.io/notebook/2017/08/13/softmax-and-the-negative-log-likelihood/\n",
        "\n",
        "https://stats.stackexchange.com/questions/163388/why-is-the-l2-regularization-equivalent-to-gaussian-prior"
      ]
    },
    {
      "cell_type": "code",
      "metadata": {
        "id": "FbkyEzMnVWjW",
        "colab_type": "code",
        "colab": {}
      },
      "source": [
        ""
      ],
      "execution_count": 0,
      "outputs": []
    }
  ]
}